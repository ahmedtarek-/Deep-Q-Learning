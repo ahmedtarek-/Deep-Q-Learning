{
  "cells": [
    {
      "cell_type": "markdown",
      "metadata": {
        "id": "-VnJcQgIa4D3"
      },
      "source": [
        "<div>\n",
        "  <img style=\"float: left;\"  width=\"140\" src=\" data:image/png;base64,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\">\n",
        "</div>\n",
        "\n",
        "<h1 id=\"course-title-heading\">\n",
        "    <div style=\"text-align: right\">\n",
        "        Models of Higher Brain Functions\n",
        "        <br>Computer Course\n",
        "        <br>\n",
        "    </div>\n",
        "</h1>\n",
        "    \n",
        "---\n",
        "<div style=\"text-align: left; float: left\">\n",
        "    Lecturer: Prof. Dr. Henning Sprekeler\n",
        "</div>\n",
        "\n",
        "<div style=\"text-align: right\">\n",
        "    Assistant: Jarek Liesen\n",
        "    <br>(jarek@bccn-berlin.de)\n",
        "</div>\n",
        "\n"
      ]
    },
    {
      "cell_type": "markdown",
      "metadata": {
        "id": "zLA_cp33aosm"
      },
      "source": [
        "# Deep Q-Learning Project (MHBF)\n",
        "\n",
        "Names: Ahmed Abdalfatah - Arina Belova\n",
        "Group: \"O\""
      ]
    },
    {
      "cell_type": "code",
      "execution_count": 1,
      "metadata": {
        "colab": {
          "base_uri": "https://localhost:8080/"
        },
        "id": "A6aPW-1vexX2",
        "outputId": "fcdf7a08-6a08-4714-fab3-5de5644294c1"
      },
      "outputs": [
        {
          "name": "stdout",
          "output_type": "stream",
          "text": [
            "Cloning into 'Deep-Q-Learning'...\n",
            "remote: Enumerating objects: 37, done.\u001b[K\n",
            "remote: Counting objects: 100% (37/37), done.\u001b[K\n",
            "remote: Compressing objects: 100% (29/29), done.\u001b[K\n",
            "remote: Total 37 (delta 12), reused 26 (delta 7), pack-reused 0\u001b[K\n",
            "Unpacking objects: 100% (37/37), done.\n",
            "cp: cannot stat '/content/Deep-Q-Learning/gym-grid/gym_grid': No such file or directory\n"
          ]
        }
      ],
      "source": [
        "# Cloning the required files from git directly to avoid pain\n",
        "!git clone https://github.com/ahmedtarek-/Deep-Q-Learning.git\n",
        "!cp -r /content/Deep-Q-Learning/gym-grid/gym_grid gym_grid"
      ]
    },
    {
      "cell_type": "code",
      "execution_count": 2,
      "metadata": {
        "colab": {
          "base_uri": "https://localhost:8080/"
        },
        "id": "iz1mjNpQaoso",
        "outputId": "6d124255-be4b-4f31-d27b-7198ef74f7d3"
      },
      "outputs": [
        {
          "name": "stdout",
          "output_type": "stream",
          "text": [
            "\u001b[31mERROR: Could not find a version that satisfies the requirement torch==1.2.0 (from versions: 1.4.0, 1.5.0, 1.5.1, 1.6.0, 1.7.0, 1.7.1, 1.8.0, 1.8.1, 1.9.0, 1.9.1, 1.10.0, 1.10.1, 1.10.2, 1.11.0, 1.12.0, 1.12.1, 1.13.0, 1.13.1, 2.0.0, 2.0.1)\u001b[0m\u001b[31m\n",
            "\u001b[0m\u001b[31mERROR: No matching distribution found for torch==1.2.0\u001b[0m\u001b[31m\n",
            "\u001b[0m"
          ]
        }
      ],
      "source": [
        "# Install required packages\n",
        "!pip install -q gym==0.15.4\n",
        "!pip install -q pycolab==1.2\n",
        "!pip install -q torch==1.2.0\n",
        "#!pip install -q matplotlib==3.1.2"
      ]
    },
    {
      "cell_type": "code",
      "execution_count": 3,
      "metadata": {
        "colab": {
          "base_uri": "https://localhost:8080/"
        },
        "id": "Ep9ZWOBNaoso",
        "outputId": "b873093b-4e10-44fa-bef5-e1560f407c3b"
      },
      "outputs": [
        {
          "name": "stdout",
          "output_type": "stream",
          "text": [
            "The autoreload extension is already loaded. To reload it, use:\n",
            "  %reload_ext autoreload\n"
          ]
        }
      ],
      "source": [
        "%matplotlib inline\n",
        "%load_ext autoreload\n",
        "%autoreload 2\n",
        "\n",
        "# Import required packages\n",
        "import gym\n",
        "import gym_grid\n",
        "\n",
        "import numpy as np\n",
        "import matplotlib.pyplot as plt\n",
        "import random\n",
        "from collections import OrderedDict\n",
        "import torch\n",
        "import torch.nn as nn\n",
        "import torch.optim as optim\n",
        "\n",
        "from IPython import display\n",
        "\n",
        "#from experience_buffer import ExperienceBuffer"
      ]
    },
    {
      "cell_type": "markdown",
      "metadata": {
        "id": "x-P4BWOLaosp"
      },
      "source": [
        "# Part 1 - Environment Implementation"
      ]
    },
    {
      "cell_type": "code",
      "execution_count": 4,
      "metadata": {
        "colab": {
          "base_uri": "https://localhost:8080/",
          "height": 164
        },
        "id": "wSe6ffhCaosp",
        "outputId": "db5a1884-6420-4da6-a438-99c7a470eb56"
      },
      "outputs": [
        {
          "name": "stdout",
          "output_type": "stream",
          "text": [
            "(3, 32, 4)\n",
            "(6, 14, 5)\n"
          ]
        },
        {
          "data": {
            "text/plain": [
              "(6, 14, 5)"
            ]
          },
          "execution_count": 4,
          "metadata": {},
          "output_type": "execute_result"
        },
        {
          "data": {
            "image/png": "[encoded data removed]",
            "text/plain": [
              "<Figure size 1000x1000 with 1 Axes>"
            ]
          },
          "metadata": {},
          "output_type": "display_data"
        }
      ],
      "source": [
        "# Visualize the environment\n",
        "plt.figure(figsize=(10, 10))\n",
        "\n",
        "# T-Maze Environment\n",
        "env = gym.make(\"LinearTrack-v0\")\n",
        "obs, obs_to_render = env.reset_with_render()\n",
        "print(obs.shape)\n",
        "env.render(obs_to_render)\n",
        "\n",
        "# TODO: Deadly Gridworld\n",
        "env = gym.make(\"DeadlyGrid-v0\")\n",
        "obs, obs_to_render = env.reset_with_render()\n",
        "env.render(obs_to_render)\n",
        "print(obs.shape)\n",
        "\n",
        "env.observation_space.shape"
      ]
    },
    {
      "cell_type": "code",
      "execution_count": 26,
      "metadata": {},
      "outputs": [
        {
          "name": "stdout",
          "output_type": "stream",
          "text": [
            "(3, 32, 4)\n"
          ]
        },
        {
          "data": {
            "image/png": "[encoded data removed]",
            "text/plain": [
              "<Figure size 640x480 with 1 Axes>"
            ]
          },
          "metadata": {},
          "output_type": "display_data"
        }
      ],
      "source": [
        "env = gym.make(\"LinearTrack-v0\")\n",
        "obs, obs_to_render = env.reset_with_render()\n",
        "print(obs.shape)\n",
        "env.render(obs_to_render)"
      ]
    },
    {
      "cell_type": "code",
      "execution_count": 5,
      "metadata": {
        "colab": {
          "base_uri": "https://localhost:8080/",
          "height": 118
        },
        "id": "N_RNXMf_aosp",
        "outputId": "e1ccb503-7972-48ae-daba-9814605861a9"
      },
      "outputs": [
        {
          "name": "stdout",
          "output_type": "stream",
          "text": [
            "200\n",
            "2\n"
          ]
        },
        {
          "data": {
            "image/png": "[encoded data removed]",
            "text/plain": [
              "<Figure size 640x480 with 1 Axes>"
            ]
          },
          "metadata": {},
          "output_type": "display_data"
        }
      ],
      "source": [
        "# Run random steps & Visualize the episode\n",
        "from IPython import display\n",
        "\n",
        "_, obs_to_render = env.reset_with_render()\n",
        "env.render(obs_to_render)\n",
        "rew_total = 0\n",
        "for i in range(50):\n",
        "    action = env.action_space.sample()\n",
        "    _, rew , done, _, obs_to_render = env.step_with_render(action)\n",
        "    env.render(obs_to_render)\n",
        "    display.display(plt.gcf())\n",
        "    display.clear_output(wait=True)\n",
        "    rew_total += rew\n",
        "    if done:\n",
        "        break\n",
        "print(rew_total)\n",
        "print(action)"
      ]
    },
    {
      "cell_type": "markdown",
      "metadata": {
        "id": "NDdWbBchaosq"
      },
      "source": [
        "# Part 2 - Deep Q-Learning Agents"
      ]
    },
    {
      "cell_type": "code",
      "execution_count": 6,
      "metadata": {
        "colab": {
          "base_uri": "https://localhost:8080/"
        },
        "id": "iGOdRjf2x5zj",
        "outputId": "00d781e0-71ef-4343-ce4e-b25433a0d1e9"
      },
      "outputs": [
        {
          "data": {
            "text/plain": [
              "(3, 32, 4)"
            ]
          },
          "execution_count": 6,
          "metadata": {},
          "output_type": "execute_result"
        }
      ],
      "source": [
        "# PLAYGROUND CELL\n",
        "states = env.observation_space.shape\n",
        "actions = env.action_space.n\n",
        "\n",
        "env.observation_space.shape"
      ]
    },
    {
      "cell_type": "markdown",
      "metadata": {
        "id": "IMEf3qeb2YSz"
      },
      "source": [
        "### 1) Defining Network"
      ]
    },
    {
      "cell_type": "code",
      "execution_count": 5,
      "metadata": {
        "id": "gapXxw-nSAwP"
      },
      "outputs": [],
      "source": [
        "random.seed(42)\n",
        "bs = 128\n",
        "\n",
        "# Simple MLP class\n",
        "\n",
        "class MLP(nn.Module):\n",
        "  '''\n",
        "    Multilayer Perceptron.\n",
        "  '''\n",
        "  def __init__(self, dim_input, dim_output):\n",
        "    super().__init__()\n",
        "\n",
        "    self.layers = nn.Sequential(OrderedDict([\n",
        "    ('hidden', nn.Linear(dim_input, 128)),\n",
        "    ('act', nn.ReLU()),\n",
        "    ('output', nn.Linear(128, dim_output)),\n",
        "    # maybe we want this as well ('outact', nn.Sigmoid()),\n",
        "    ]))\n",
        "\n",
        "    # init weights, maybe Xavier init?\n",
        "    self.layers.apply(self.init_weights)\n",
        "\n",
        "  def init_weights(self, module):\n",
        "    if isinstance(module, nn.Linear):\n",
        "      torch.nn.init.xavier_uniform_(module.weight)\n",
        "      module.bias.data.fill_(0.01)\n",
        "\n",
        "  def forward(self, x):\n",
        "      return self.layers(x)"
      ]
    },
    {
      "cell_type": "markdown",
      "metadata": {
        "id": "OGv6-NpSKquf"
      },
      "source": [
        "### 2) Defining policy"
      ]
    },
    {
      "cell_type": "code",
      "execution_count": 6,
      "metadata": {
        "id": "TQa9lMjuKtDl"
      },
      "outputs": [],
      "source": [
        "# TODO: try exponentially annealing epsilon-greedy from 1-> 0\n",
        "# s\\left(\\frac{t}{s}\\right)^{x}\n",
        "\n",
        "# TODO: only 80% of steps should linearly anneal!\n",
        "\n",
        "def eps_greedy(q, e):\n",
        "  rand = np.random.uniform(0, 1)\n",
        "  if len(q.shape) == 1:\n",
        "    q = torch.unsqueeze(q, dim=0)\n",
        "\n",
        "  #print(q)\n",
        "  if rand <= (1 - e):\n",
        "    #chosen_action = torch.argmax(q, dim=1).item()\n",
        "    chosen_action = torch.argmax(q, dim=1)\n",
        "  else:\n",
        "    chosen_action = np.random.choice(range(q.shape[1]))\n",
        "\n",
        "  # to avod the warning\n",
        "  #print(f\"Q dim is {q.shape}\")\n",
        "  q_value = q[:,chosen_action]\n",
        "  #print(f\"Just q value: {q_value}\")\n",
        "  return chosen_action, q_value"
      ]
    },
    {
      "cell_type": "markdown",
      "metadata": {
        "id": "4D1EkQ9SOYS3"
      },
      "source": [
        "### 3) Defining Y_hat"
      ]
    },
    {
      "cell_type": "code",
      "execution_count": 7,
      "metadata": {
        "id": "M8SpOlgDOaiM"
      },
      "outputs": [],
      "source": [
        "def calculate_y_hat(reward, max_next_q, done, gamma=0.99):\n",
        "  return torch.Tensor([reward + gamma * (1 - done) * max_next_q.detach().numpy()])"
      ]
    },
    {
      "cell_type": "code",
      "execution_count": 8,
      "metadata": {},
      "outputs": [],
      "source": [
        "def rollout_episode(env_name, model, policy, eval_steps, gamma = 0.99):\n",
        "    model.eval()\n",
        "    rew_total = 0\n",
        "    discounter_reward = 0\n",
        "    # TODO: should we really do reset of the env?\n",
        "    # We need a separate testing environment!!!\n",
        "    env = gym.make(env_name)\n",
        "    current_state = env.reset()\n",
        "\n",
        "    # Multiple episodes not steps!!! And avg discounted reward over episodes.\n",
        "    for _ in range(eval_steps):\n",
        "        # use the epsilon greedy policy with a ver small epsilon = 0.01 \n",
        "        q = model(torch.Tensor(current_state.flatten()))    \n",
        "        action, _ = policy(q, e = 0.01)\n",
        "        new_state, rew , done, _ = env.step(action)\n",
        "        rew_total += rew\n",
        "        discounter_reward += rew * gamma\n",
        "        current_state = torch.Tensor(new_state.flatten()) \n",
        "        \n",
        "        if done:\n",
        "            break\n",
        "      \n",
        "    model.train() \n",
        "    return rew_total, discounter_reward, done       "
      ]
    },
    {
      "cell_type": "markdown",
      "metadata": {
        "id": "Ky54_4qJ2cd-"
      },
      "source": [
        "### 2) Defining main loop"
      ]
    },
    {
      "cell_type": "code",
      "execution_count": 10,
      "metadata": {},
      "outputs": [],
      "source": [
        "class ExperienceBatch():\n",
        "  def __init__(self, current_states, actions, rewards, next_states, done):\n",
        "    self.current_states = current_states\n",
        "    self.actions = actions\n",
        "    self.rewards = rewards\n",
        "    self.next_states = next_states\n",
        "    self.done = done\n",
        "\n",
        "  def get_current_states(self):\n",
        "    return torch.Tensor(self.current_states)\n",
        "\n",
        "  def get_actions(self):\n",
        "    return self.actions\n",
        "\n",
        "  def get_rewards(self):\n",
        "    return self.rewards\n",
        "\n",
        "  def get_next_states(self):\n",
        "    return torch.Tensor(self.next_states)\n",
        "\n",
        "  def get_done(self):\n",
        "    return self.done  \n",
        "\n",
        "  def size(self):\n",
        "    return self.actions.shape[0]\n",
        "\n",
        "  def items(self):\n",
        "    \"\"\"\n",
        "    ACHTUNG: not so effecient; more for testing than using in training\n",
        "    \"\"\"\n",
        "    return list(zip(self.current_states, self.actions, self.rewards, self.next_states, self.done))\n",
        "\n",
        "\n",
        "class ExperienceBuffer():\n",
        "  DEFAULT_BATCH_SIZE = 128\n",
        "\n",
        "  def __init__(self, shape, batch_size = DEFAULT_BATCH_SIZE, capacity=1000):\n",
        "    \"\"\"\n",
        "      Parameters:\n",
        "        - shape: Describes the size of each component.\n",
        "          Example:\n",
        "            - A 'state' is represented by 420 numbers\n",
        "            - Reward is a scalar value\n",
        "            - Action is a scalar value\n",
        "            - Then the shape will be (420, 1, 1, 420)\n",
        "        - capacity: Defines the total capacity of the buffer\n",
        "    \"\"\"\n",
        "    # self.batch_size = batch_size\n",
        "    # self.capacity = capacity\n",
        "    # self.current_index = 0\n",
        "    # self.current_states = np.zeros((capacity, shape[0]))\n",
        "    # self.actions = np.zeros((capacity, shape[1]))\n",
        "    # self.rewards = np.zeros((capacity, shape[2]))\n",
        "    # self.next_states = np.zeros((capacity, shape[3]))\n",
        "    # self.done = np.zeros((capacity, shape[4]))\n",
        "    \n",
        "    self.batch_size = batch_size\n",
        "    self.capacity = capacity\n",
        "    self.current_index = 0\n",
        "    self.current_states = np.zeros((capacity, shape[0])) - 1\n",
        "    self.actions = np.zeros((capacity, shape[1])) - 1\n",
        "    self.rewards = np.zeros((capacity, shape[2])) - 1\n",
        "    self.next_states = np.zeros((capacity, shape[3])) - 1\n",
        "    self.done = np.zeros((capacity, shape[4])) - 1\n",
        "\n",
        "  def add(self, current_state, action: int, reward: int, next_state, done: int) -> None:\n",
        "    self.current_states[self.current_index] = current_state\n",
        "    self.actions[self.current_index] = action\n",
        "    self.rewards[self.current_index] = reward\n",
        "    self.next_states[self.current_index] = next_state\n",
        "    self.done[self.current_index] = done\n",
        "    \n",
        "    self.update_index()\n",
        "\n",
        "  def update_index(self) -> None:\n",
        "    \"\"\"\n",
        "    Updates the index that is being used to populate the buffer; \n",
        "    the 'current_index' is set to 0 whenever we reach the end of the buffer\n",
        "    to override the very first values that were added (FIFO).\n",
        "    \"\"\"\n",
        "    if self.current_index == (self.capacity - 1):\n",
        "      self.current_index = 0\n",
        "    else:\n",
        "      self.current_index += 1\n",
        "\n",
        "  # As long th buffer is not full we don't update NN, no gradient update\n",
        "  def get_next(self) -> ExperienceBatch:\n",
        "    \"\"\"\n",
        "    If the buffer hasn't reached the 'buffer_size' yet, then we return a batch\n",
        "    representing all the data in the buffer. Otherwise we sample 'buffer_size' \n",
        "    items from the buffer.\n",
        "    \"\"\"\n",
        "    if self.size() <= self.batch_size:\n",
        "      # Case A: Current buffer size is smaller than requested => Return all items\n",
        "      indices = np.arange(0, self.size())\n",
        "    elif self.batch_size == 1:\n",
        "      # Case B: Requested batch size is 1 => Return last item\n",
        "      indices = [self.current_index - 1]\n",
        "    else:\n",
        "      # Case C: Requested batch size is smaller to buffer size => Sample from available items\n",
        "      indices = np.random.choice(self.size(), size=self.batch_size, replace=False)\n",
        "    return ExperienceBatch(*self.items(indices))\n",
        "\n",
        "  def size(self) -> int:\n",
        "    return np.count_nonzero(self.actions != -1)\n",
        "\n",
        "  def items(self, indices=None) -> tuple:\n",
        "    return (self.current_states[indices],\n",
        "      self.actions[indices],\n",
        "      self.rewards[indices],\n",
        "      self.next_states[indices],\n",
        "      self.done[indices]\n",
        "    )\n",
        "\n",
        "  def __str__(self) -> str:\n",
        "    return f\"\"\"\n",
        "      Capacity: {self.capacity}\n",
        "      Size: {self.size()}\n",
        "      Current Index: {self.current_index}\n",
        "      Shape: ({self.current_states.shape[1]},{self.actions.shape[1]},{self.rewards.shape[1]},{self.next_states.shape[1]}, {self.done.shape[1]})\n",
        "    \"\"\""
      ]
    },
    {
      "cell_type": "code",
      "execution_count": 14,
      "metadata": {
        "id": "8Ak4i0sWt4fW"
      },
      "outputs": [],
      "source": [
        "# https://spinningup.openai.com/en/latest/algorithms/ddpg.html\n",
        "# http://karpathy.github.io/2016/05/31/rl/\n",
        "# https://towardsdatascience.com/deep-deterministic-policy-gradients-explained-4643c1f71b2e\n",
        "\n",
        "def the_loop(model, env_name, loss_function, exp_replay = False, num_update_steps = 20000, num_episodes = 50, policy = eps_greedy, eval_steps = 20, evaluate_at = 500):\n",
        "  # episodes num = 50/100 and updates = 20000/100000\n",
        "  #for update_step in range(num_update_steps):\n",
        "  env = gym.make(env_name)\n",
        "  rew_inter_arr = np.zeros(int(num_update_steps / evaluate_at))\n",
        "  discounted_rew_arr = np.zeros(int(num_update_steps / evaluate_at))\n",
        "  counter = 0\n",
        "  sample_size = np.prod(env.observation_space.shape)\n",
        "\n",
        "  # So epsilon decays only in 80% of the steps and in first 20% of the steps it stays exploratative\n",
        "  epsilon = lambda count: 1 * (1 - ((count + 1) / num_update_steps)) if count >= 0.2 * num_update_steps else 1\n",
        "\n",
        "  if exp_replay:\n",
        "    exp_buffer = ExperienceBuffer((sample_size,1,1,sample_size,1))\n",
        "  else:\n",
        "    exp_buffer = ExperienceBuffer((sample_size,1,1,sample_size,1), batch_size = 1) \n",
        "\n",
        "  # TODO: num of episodes * num_steps_in_episode = 20000\n",
        "  while counter < num_update_steps:\n",
        "    #print(update_step)\n",
        "    current_state = env.reset()\n",
        "    current_state_tensor = torch.Tensor(current_state.flatten())\n",
        "\n",
        "    # TODO: num steps in the episode = 50\n",
        "    # num episodes is not fixed!\n",
        "    for _ in range(num_episodes):\n",
        "\n",
        "      # 1. Forward pass on NN to get the Q(t)\n",
        "      # Not to reset current_state_tensor at every pass of for loop\n",
        "      # if idx == 0:\n",
        "      #   current_state_tensor = torch.Tensor(current_state.flatten())\n",
        "      q_t = model(current_state_tensor)\n",
        "\n",
        "      # 2. Decide which action to choose based on annealing epsilon greedy policy\n",
        "      # TODO: # sigmoid schedule on the epsilon so we have more exploration. We need to do annealing for 80% of steps\n",
        "      # Clipping\n",
        "      chosen_action, current_q_value = policy(q_t, e = epsilon(counter))\n",
        "      #print(f\"Current q value is {current_q_value}\")\n",
        "\n",
        "      # 3. Take action/step and get reward and next state\n",
        "      next_state, reward , done, _ = env.step(chosen_action)\n",
        "\n",
        "      # 4. Run another forward pass to get all q_values for next_state\n",
        "      next_state_tensor = torch.Tensor(next_state.flatten())\n",
        "\n",
        "      # 4(a). Store in experence replay buffer:\n",
        "      #print(current_state_tensor)\n",
        "      exp_buffer.add(current_state_tensor, chosen_action, reward, next_state_tensor, done)\n",
        "\n",
        "      # Important previously: current_state_tensor = next_state_tensor\n",
        "      current_state_tensor = next_state_tensor\n",
        "\n",
        "      # WIP: Now we ask for a batch and we update the gradient wrt batch \n",
        "      # first check is whether we have sufficiently full buffer\n",
        "      # TODO: thnk about case 1\n",
        "      if counter >= exp_buffer.batch_size:\n",
        "        #for _ in range(exp_buffer.DEFAULT_BATCH_SIZE):\n",
        "        buffer_batch = exp_buffer.get_next()\n",
        "\n",
        "        q_next_t = model(buffer_batch.get_next_states()) # will be a matrix of Qs (buffer_size x num_actions)\n",
        "        #print(q_next_t.shape)\n",
        "\n",
        "        # 5. Get maximum q_value, greedy action\n",
        "        _, next_max_q_value = policy(q_next_t, e=0)\n",
        "        #print(next_max_q_value)\n",
        "        #next_max_q_value, q_next_t\n",
        "        \n",
        "        # 6. Calculate Y_hat\n",
        "        y_hat = calculate_y_hat(buffer_batch.get_rewards(), next_max_q_value, buffer_batch.get_done() * 1).detach()\n",
        "        #print(f\"Do we require grad? {y_hat.requires_grad}\")\n",
        "\n",
        "        # 7. Loss function\n",
        "        loss = loss_function(current_q_value, y_hat)\n",
        "        #print(current_q_value.type())\n",
        "        #print(y_hat.type())\n",
        "\n",
        "        # 8. Backpropagate to learn\n",
        "        optimizer.zero_grad()\n",
        "        loss.backward()\n",
        "        optimizer.step()\n",
        "\n",
        "      # 9. TODO: Do the evaluation every 500 steps\n",
        "      # run in the env under greedy policy to get running reward\n",
        "      if (counter % evaluate_at) == 0:\n",
        "        with torch.no_grad():\n",
        "          rew_intermediate, discounted_rew, rollout_done = rollout_episode(env_name, model, policy, eval_steps)  \n",
        "          #print(f\"Current index {int(counter / evaluate_steps)}\")\n",
        "          rew_inter_arr[int(counter / evaluate_at)] = rew_intermediate\n",
        "          discounted_rew_arr[int(counter / evaluate_at)] = discounted_rew\n",
        "          print(f\"Intermediate reward at idx {int(counter / evaluate_at)} update is {rew_intermediate}\")  \n",
        "          print(f\"Discounted reward at idx {int(counter / evaluate_at)} update is {discounted_rew}\")\n",
        "          \n",
        "        if rollout_done:\n",
        "          break    \n",
        "      \n",
        "      # step counter\n",
        "      counter +=1\n",
        "\n",
        "      # 10. Check if we terminate an episode due to one of the termination conditions\n",
        "      if done:\n",
        "        break\n",
        "\n",
        "      # 11. Check if we're out of updating for good.\n",
        "      if counter >= num_update_steps:\n",
        "        break\n",
        "\n",
        "  return rew_inter_arr, discounted_rew_arr\n",
        "\n",
        "      # YAAAY repeat now"
      ]
    },
    {
      "cell_type": "markdown",
      "metadata": {},
      "source": [
        "**Questions:**\n",
        "\n",
        " - Linearly Annealing epsilon greedy poicy\n",
        " - Correctness of termination condition\n",
        " - MSBE loss looks like MSE loss between current state and update. Yes it is the same\n"
      ]
    },
    {
      "cell_type": "code",
      "execution_count": 12,
      "metadata": {
        "colab": {
          "base_uri": "https://localhost:8080/"
        },
        "id": "k2pk_9l-TVEc",
        "outputId": "c0629cb2-1419-4238-f4d1-3571d114d61a"
      },
      "outputs": [
        {
          "name": "stdout",
          "output_type": "stream",
          "text": [
            "Intermediate reward at idx 0 update is 0\n",
            "Discounted reward at idx 0 update is 0.0\n"
          ]
        },
        {
          "name": "stderr",
          "output_type": "stream",
          "text": [
            "/home/galan/anaconda3/envs/rl/lib/python3.8/site-packages/torch/nn/modules/loss.py:431: UserWarning: Using a target size (torch.Size([1, 128, 128])) that is different to the input size (torch.Size([1])). This will likely lead to incorrect results due to broadcasting. Please ensure they have the same size.\n",
            "  return F.mse_loss(input, target, reduction=self.reduction)\n"
          ]
        },
        {
          "name": "stdout",
          "output_type": "stream",
          "text": [
            "Intermediate reward at idx 1 update is 0\n",
            "Discounted reward at idx 1 update is 0.0\n",
            "Intermediate reward at idx 2 update is 0\n",
            "Discounted reward at idx 2 update is 0.0\n",
            "Intermediate reward at idx 3 update is 0\n",
            "Discounted reward at idx 3 update is 0.0\n",
            "Intermediate reward at idx 4 update is 200\n",
            "Discounted reward at idx 4 update is 198.0\n",
            "Intermediate reward at idx 5 update is 0\n",
            "Discounted reward at idx 5 update is 0.0\n",
            "Intermediate reward at idx 6 update is 200\n",
            "Discounted reward at idx 6 update is 198.0\n",
            "Intermediate reward at idx 7 update is 0\n",
            "Discounted reward at idx 7 update is 0.0\n",
            "Intermediate reward at idx 8 update is 0\n",
            "Discounted reward at idx 8 update is 0.0\n"
          ]
        },
        {
          "name": "stderr",
          "output_type": "stream",
          "text": [
            "/home/galan/anaconda3/envs/rl/lib/python3.8/site-packages/torch/nn/modules/loss.py:431: UserWarning: Using a target size (torch.Size([1, 128, 128])) that is different to the input size (torch.Size([1, 1])). This will likely lead to incorrect results due to broadcasting. Please ensure they have the same size.\n",
            "  return F.mse_loss(input, target, reduction=self.reduction)\n"
          ]
        },
        {
          "name": "stdout",
          "output_type": "stream",
          "text": [
            "Intermediate reward at idx 9 update is 200\n",
            "Discounted reward at idx 9 update is 198.0\n",
            "Intermediate reward at idx 10 update is 0\n",
            "Discounted reward at idx 10 update is 0.0\n",
            "Intermediate reward at idx 11 update is 0\n",
            "Discounted reward at idx 11 update is 0.0\n",
            "Intermediate reward at idx 12 update is 0\n",
            "Discounted reward at idx 12 update is 0.0\n",
            "Intermediate reward at idx 13 update is 200\n",
            "Discounted reward at idx 13 update is 198.0\n",
            "Intermediate reward at idx 14 update is 0\n",
            "Discounted reward at idx 14 update is 0.0\n",
            "Intermediate reward at idx 15 update is 0\n",
            "Discounted reward at idx 15 update is 0.0\n",
            "Intermediate reward at idx 16 update is 0\n",
            "Discounted reward at idx 16 update is 0.0\n",
            "Intermediate reward at idx 17 update is 0\n",
            "Discounted reward at idx 17 update is 0.0\n",
            "Intermediate reward at idx 18 update is 100\n",
            "Discounted reward at idx 18 update is 99.0\n",
            "Intermediate reward at idx 19 update is 0\n",
            "Discounted reward at idx 19 update is 0.0\n",
            "Intermediate reward at idx 20 update is 0\n",
            "Discounted reward at idx 20 update is 0.0\n",
            "Intermediate reward at idx 21 update is 0\n",
            "Discounted reward at idx 21 update is 0.0\n",
            "Intermediate reward at idx 22 update is 0\n",
            "Discounted reward at idx 22 update is 0.0\n",
            "Intermediate reward at idx 23 update is 0\n",
            "Discounted reward at idx 23 update is 0.0\n",
            "Intermediate reward at idx 24 update is 0\n",
            "Discounted reward at idx 24 update is 0.0\n",
            "Intermediate reward at idx 25 update is 200\n",
            "Discounted reward at idx 25 update is 198.0\n",
            "Intermediate reward at idx 26 update is 0\n",
            "Discounted reward at idx 26 update is 0.0\n",
            "Intermediate reward at idx 27 update is 0\n",
            "Discounted reward at idx 27 update is 0.0\n",
            "Intermediate reward at idx 28 update is 0\n",
            "Discounted reward at idx 28 update is 0.0\n",
            "Intermediate reward at idx 29 update is 200\n",
            "Discounted reward at idx 29 update is 198.0\n",
            "Intermediate reward at idx 30 update is 0\n",
            "Discounted reward at idx 30 update is 0.0\n",
            "Intermediate reward at idx 31 update is 0\n",
            "Discounted reward at idx 31 update is 0.0\n",
            "Intermediate reward at idx 32 update is 0\n",
            "Discounted reward at idx 32 update is 0.0\n",
            "Intermediate reward at idx 33 update is 0\n",
            "Discounted reward at idx 33 update is 0.0\n",
            "Intermediate reward at idx 34 update is 0\n",
            "Discounted reward at idx 34 update is 0.0\n",
            "Intermediate reward at idx 35 update is 0\n",
            "Discounted reward at idx 35 update is 0.0\n",
            "Intermediate reward at idx 36 update is 0\n",
            "Discounted reward at idx 36 update is 0.0\n",
            "Intermediate reward at idx 37 update is 0\n",
            "Discounted reward at idx 37 update is 0.0\n",
            "Intermediate reward at idx 38 update is 0\n",
            "Discounted reward at idx 38 update is 0.0\n",
            "Intermediate reward at idx 39 update is 0\n",
            "Discounted reward at idx 39 update is 0.0\n"
          ]
        }
      ],
      "source": [
        "# just to get configurations for the model\n",
        "env = gym.make(\"LinearTrack-v0\")\n",
        "\n",
        "states = np.prod(env.observation_space.shape)\n",
        "actions = env.action_space.n\n",
        "\n",
        "lr = 0.001\n",
        "model = MLP(states, actions)\n",
        "\n",
        "# Defining the loss function\n",
        "loss_func = nn.MSELoss()\n",
        "\n",
        "# Defining optimizer\n",
        "optimizer = torch.optim.Adam(model.parameters(), lr=lr)\n",
        "\n",
        "rew_inter_arr, discounted_rew_arr = the_loop(model, \"LinearTrack-v0\", loss_func, exp_replay = True, eval_steps = 5)\n",
        "\n",
        "# Save the model weights\n",
        "torch.save(model.state_dict(), \"models/vanilla_linear_track_with_exp_replay.pt\")"
      ]
    },
    {
      "cell_type": "code",
      "execution_count": 13,
      "metadata": {},
      "outputs": [
        {
          "name": "stdout",
          "output_type": "stream",
          "text": [
            "Intermediate reward at idx 0 update is 0\n",
            "Discounted reward at idx 0 update is 0.0\n",
            "Intermediate reward at idx 1 update is 0\n",
            "Discounted reward at idx 1 update is 0.0\n",
            "Intermediate reward at idx 2 update is 100\n",
            "Discounted reward at idx 2 update is 99.0\n",
            "Intermediate reward at idx 3 update is 100\n",
            "Discounted reward at idx 3 update is 99.0\n",
            "Intermediate reward at idx 4 update is 100\n",
            "Discounted reward at idx 4 update is 99.0\n",
            "Intermediate reward at idx 5 update is 100\n",
            "Discounted reward at idx 5 update is 99.0\n",
            "Intermediate reward at idx 6 update is 0\n",
            "Discounted reward at idx 6 update is 0.0\n",
            "Intermediate reward at idx 7 update is 0\n",
            "Discounted reward at idx 7 update is 0.0\n",
            "Intermediate reward at idx 8 update is 100\n",
            "Discounted reward at idx 8 update is 99.0\n",
            "Intermediate reward at idx 9 update is 500\n",
            "Discounted reward at idx 9 update is 495.0\n",
            "Intermediate reward at idx 10 update is 0\n",
            "Discounted reward at idx 10 update is 0.0\n",
            "Intermediate reward at idx 11 update is 500\n",
            "Discounted reward at idx 11 update is 495.0\n",
            "Intermediate reward at idx 12 update is 500\n",
            "Discounted reward at idx 12 update is 495.0\n",
            "Intermediate reward at idx 13 update is 0\n",
            "Discounted reward at idx 13 update is 0.0\n",
            "Intermediate reward at idx 14 update is 0\n",
            "Discounted reward at idx 14 update is 0.0\n",
            "Intermediate reward at idx 15 update is 0\n",
            "Discounted reward at idx 15 update is 0.0\n",
            "Intermediate reward at idx 16 update is 0\n",
            "Discounted reward at idx 16 update is 0.0\n",
            "Intermediate reward at idx 17 update is 0\n",
            "Discounted reward at idx 17 update is 0.0\n",
            "Intermediate reward at idx 18 update is 100\n",
            "Discounted reward at idx 18 update is 99.0\n",
            "Intermediate reward at idx 19 update is 500\n",
            "Discounted reward at idx 19 update is 495.0\n",
            "Intermediate reward at idx 20 update is 500\n",
            "Discounted reward at idx 20 update is 495.0\n",
            "Intermediate reward at idx 21 update is 0\n",
            "Discounted reward at idx 21 update is 0.0\n",
            "Intermediate reward at idx 22 update is 500\n",
            "Discounted reward at idx 22 update is 495.0\n",
            "Intermediate reward at idx 23 update is 400\n",
            "Discounted reward at idx 23 update is 396.0\n",
            "Intermediate reward at idx 24 update is 100\n",
            "Discounted reward at idx 24 update is 99.0\n",
            "Intermediate reward at idx 25 update is 0\n",
            "Discounted reward at idx 25 update is 0.0\n",
            "Intermediate reward at idx 26 update is 100\n",
            "Discounted reward at idx 26 update is 99.0\n",
            "Intermediate reward at idx 27 update is 0\n",
            "Discounted reward at idx 27 update is 0.0\n",
            "Intermediate reward at idx 28 update is 0\n",
            "Discounted reward at idx 28 update is 0.0\n",
            "Intermediate reward at idx 29 update is 0\n",
            "Discounted reward at idx 29 update is 0.0\n",
            "Intermediate reward at idx 30 update is 0\n",
            "Discounted reward at idx 30 update is 0.0\n",
            "Intermediate reward at idx 31 update is 0\n",
            "Discounted reward at idx 31 update is 0.0\n",
            "Intermediate reward at idx 32 update is 0\n",
            "Discounted reward at idx 32 update is 0.0\n",
            "Intermediate reward at idx 33 update is 100\n",
            "Discounted reward at idx 33 update is 99.0\n",
            "Intermediate reward at idx 34 update is 0\n",
            "Discounted reward at idx 34 update is 0.0\n",
            "Intermediate reward at idx 35 update is 0\n",
            "Discounted reward at idx 35 update is 0.0\n",
            "Intermediate reward at idx 36 update is 0\n",
            "Discounted reward at idx 36 update is 0.0\n",
            "Intermediate reward at idx 37 update is 0\n",
            "Discounted reward at idx 37 update is 0.0\n",
            "Intermediate reward at idx 38 update is 0\n",
            "Discounted reward at idx 38 update is 0.0\n",
            "Intermediate reward at idx 39 update is 0\n",
            "Discounted reward at idx 39 update is 0.0\n",
            "Intermediate reward at idx 40 update is 0\n",
            "Discounted reward at idx 40 update is 0.0\n",
            "Intermediate reward at idx 41 update is 0\n",
            "Discounted reward at idx 41 update is 0.0\n",
            "Intermediate reward at idx 42 update is 0\n",
            "Discounted reward at idx 42 update is 0.0\n",
            "Intermediate reward at idx 43 update is 0\n",
            "Discounted reward at idx 43 update is 0.0\n",
            "Intermediate reward at idx 44 update is 0\n",
            "Discounted reward at idx 44 update is 0.0\n",
            "Intermediate reward at idx 45 update is 0\n",
            "Discounted reward at idx 45 update is 0.0\n",
            "Intermediate reward at idx 46 update is 500\n",
            "Discounted reward at idx 46 update is 495.0\n",
            "Intermediate reward at idx 47 update is 0\n",
            "Discounted reward at idx 47 update is 0.0\n",
            "Intermediate reward at idx 48 update is 300\n",
            "Discounted reward at idx 48 update is 297.0\n",
            "Intermediate reward at idx 49 update is 0\n",
            "Discounted reward at idx 49 update is 0.0\n",
            "Intermediate reward at idx 50 update is 0\n",
            "Discounted reward at idx 50 update is 0.0\n",
            "Intermediate reward at idx 51 update is 0\n",
            "Discounted reward at idx 51 update is 0.0\n",
            "Intermediate reward at idx 52 update is 500\n",
            "Discounted reward at idx 52 update is 495.0\n",
            "Intermediate reward at idx 53 update is 0\n",
            "Discounted reward at idx 53 update is 0.0\n",
            "Intermediate reward at idx 54 update is 0\n",
            "Discounted reward at idx 54 update is 0.0\n",
            "Intermediate reward at idx 55 update is 200\n",
            "Discounted reward at idx 55 update is 198.0\n",
            "Intermediate reward at idx 56 update is 100\n",
            "Discounted reward at idx 56 update is 99.0\n",
            "Intermediate reward at idx 57 update is 0\n",
            "Discounted reward at idx 57 update is 0.0\n",
            "Intermediate reward at idx 58 update is 0\n",
            "Discounted reward at idx 58 update is 0.0\n",
            "Intermediate reward at idx 59 update is 0\n",
            "Discounted reward at idx 59 update is 0.0\n",
            "Intermediate reward at idx 60 update is 300\n",
            "Discounted reward at idx 60 update is 297.0\n",
            "Intermediate reward at idx 61 update is 500\n",
            "Discounted reward at idx 61 update is 495.0\n",
            "Intermediate reward at idx 62 update is 0\n",
            "Discounted reward at idx 62 update is 0.0\n",
            "Intermediate reward at idx 63 update is 0\n",
            "Discounted reward at idx 63 update is 0.0\n",
            "Intermediate reward at idx 64 update is 0\n",
            "Discounted reward at idx 64 update is 0.0\n",
            "Intermediate reward at idx 65 update is 0\n",
            "Discounted reward at idx 65 update is 0.0\n",
            "Intermediate reward at idx 66 update is 0\n",
            "Discounted reward at idx 66 update is 0.0\n",
            "Intermediate reward at idx 67 update is 0\n",
            "Discounted reward at idx 67 update is 0.0\n",
            "Intermediate reward at idx 68 update is 600\n",
            "Discounted reward at idx 68 update is 594.0\n",
            "Intermediate reward at idx 69 update is 500\n",
            "Discounted reward at idx 69 update is 495.0\n",
            "Intermediate reward at idx 70 update is 0\n",
            "Discounted reward at idx 70 update is 0.0\n",
            "Intermediate reward at idx 71 update is 0\n",
            "Discounted reward at idx 71 update is 0.0\n",
            "Intermediate reward at idx 72 update is 0\n",
            "Discounted reward at idx 72 update is 0.0\n",
            "Intermediate reward at idx 73 update is 0\n",
            "Discounted reward at idx 73 update is 0.0\n",
            "Intermediate reward at idx 74 update is 0\n",
            "Discounted reward at idx 74 update is 0.0\n",
            "Intermediate reward at idx 75 update is 0\n",
            "Discounted reward at idx 75 update is 0.0\n",
            "Intermediate reward at idx 76 update is 100\n",
            "Discounted reward at idx 76 update is 99.0\n",
            "Intermediate reward at idx 77 update is 100\n",
            "Discounted reward at idx 77 update is 99.0\n",
            "Intermediate reward at idx 78 update is 0\n",
            "Discounted reward at idx 78 update is 0.0\n",
            "Intermediate reward at idx 79 update is 0\n",
            "Discounted reward at idx 79 update is 0.0\n",
            "Intermediate reward at idx 80 update is 0\n",
            "Discounted reward at idx 80 update is 0.0\n",
            "Intermediate reward at idx 81 update is 100\n",
            "Discounted reward at idx 81 update is 99.0\n",
            "Intermediate reward at idx 82 update is 500\n",
            "Discounted reward at idx 82 update is 495.0\n",
            "Intermediate reward at idx 83 update is 100\n",
            "Discounted reward at idx 83 update is 99.0\n",
            "Intermediate reward at idx 84 update is 0\n",
            "Discounted reward at idx 84 update is 0.0\n",
            "Intermediate reward at idx 85 update is 200\n",
            "Discounted reward at idx 85 update is 198.0\n",
            "Intermediate reward at idx 86 update is 500\n",
            "Discounted reward at idx 86 update is 495.0\n",
            "Intermediate reward at idx 87 update is 0\n",
            "Discounted reward at idx 87 update is 0.0\n",
            "Intermediate reward at idx 88 update is 0\n",
            "Discounted reward at idx 88 update is 0.0\n",
            "Intermediate reward at idx 89 update is 0\n",
            "Discounted reward at idx 89 update is 0.0\n",
            "Intermediate reward at idx 90 update is 100\n",
            "Discounted reward at idx 90 update is 99.0\n",
            "Intermediate reward at idx 91 update is 0\n",
            "Discounted reward at idx 91 update is 0.0\n",
            "Intermediate reward at idx 92 update is 100\n",
            "Discounted reward at idx 92 update is 99.0\n",
            "Intermediate reward at idx 93 update is 0\n",
            "Discounted reward at idx 93 update is 0.0\n",
            "Intermediate reward at idx 94 update is 0\n",
            "Discounted reward at idx 94 update is 0.0\n",
            "Intermediate reward at idx 95 update is 100\n",
            "Discounted reward at idx 95 update is 99.0\n",
            "Intermediate reward at idx 96 update is 100\n",
            "Discounted reward at idx 96 update is 99.0\n",
            "Intermediate reward at idx 97 update is 0\n",
            "Discounted reward at idx 97 update is 0.0\n",
            "Intermediate reward at idx 98 update is 200\n",
            "Discounted reward at idx 98 update is 198.0\n",
            "Intermediate reward at idx 98 update is 200\n",
            "Discounted reward at idx 98 update is 198.0\n",
            "Intermediate reward at idx 99 update is 300\n",
            "Discounted reward at idx 99 update is 297.0\n",
            "Intermediate reward at idx 99 update is 300\n",
            "Discounted reward at idx 99 update is 297.0\n",
            "Intermediate reward at idx 99 update is 300\n",
            "Discounted reward at idx 99 update is 297.0\n",
            "Intermediate reward at idx 100 update is 100\n",
            "Discounted reward at idx 100 update is 99.0\n",
            "Intermediate reward at idx 101 update is 0\n",
            "Discounted reward at idx 101 update is 0.0\n",
            "Intermediate reward at idx 102 update is 100\n",
            "Discounted reward at idx 102 update is 99.0\n",
            "Intermediate reward at idx 103 update is 200\n",
            "Discounted reward at idx 103 update is 198.0\n",
            "Intermediate reward at idx 104 update is 0\n",
            "Discounted reward at idx 104 update is 0.0\n",
            "Intermediate reward at idx 105 update is 400\n",
            "Discounted reward at idx 105 update is 396.0\n",
            "Intermediate reward at idx 106 update is 0\n",
            "Discounted reward at idx 106 update is 0.0\n",
            "Intermediate reward at idx 107 update is 0\n",
            "Discounted reward at idx 107 update is 0.0\n",
            "Intermediate reward at idx 108 update is 0\n",
            "Discounted reward at idx 108 update is 0.0\n",
            "Intermediate reward at idx 109 update is 100\n",
            "Discounted reward at idx 109 update is 99.0\n",
            "Intermediate reward at idx 110 update is 0\n",
            "Discounted reward at idx 110 update is 0.0\n",
            "Intermediate reward at idx 111 update is 0\n",
            "Discounted reward at idx 111 update is 0.0\n",
            "Intermediate reward at idx 112 update is 0\n",
            "Discounted reward at idx 112 update is 0.0\n",
            "Intermediate reward at idx 113 update is 0\n",
            "Discounted reward at idx 113 update is 0.0\n",
            "Intermediate reward at idx 114 update is 0\n",
            "Discounted reward at idx 114 update is 0.0\n",
            "Intermediate reward at idx 115 update is -100\n",
            "Discounted reward at idx 115 update is -99.0\n",
            "Intermediate reward at idx 116 update is 0\n",
            "Discounted reward at idx 116 update is 0.0\n",
            "Intermediate reward at idx 117 update is 0\n",
            "Discounted reward at idx 117 update is 0.0\n",
            "Intermediate reward at idx 118 update is 0\n",
            "Discounted reward at idx 118 update is 0.0\n",
            "Intermediate reward at idx 119 update is 0\n",
            "Discounted reward at idx 119 update is 0.0\n",
            "Intermediate reward at idx 120 update is 200\n",
            "Discounted reward at idx 120 update is 198.0\n",
            "Intermediate reward at idx 121 update is 100\n",
            "Discounted reward at idx 121 update is 99.0\n",
            "Intermediate reward at idx 122 update is 0\n",
            "Discounted reward at idx 122 update is 0.0\n",
            "Intermediate reward at idx 123 update is 300\n",
            "Discounted reward at idx 123 update is 297.0\n",
            "Intermediate reward at idx 123 update is 200\n",
            "Discounted reward at idx 123 update is 198.0\n",
            "Intermediate reward at idx 123 update is 100\n",
            "Discounted reward at idx 123 update is 99.0\n",
            "Intermediate reward at idx 124 update is 100\n",
            "Discounted reward at idx 124 update is 99.0\n",
            "Intermediate reward at idx 125 update is 0\n",
            "Discounted reward at idx 125 update is 0.0\n",
            "Intermediate reward at idx 126 update is 600\n",
            "Discounted reward at idx 126 update is 594.0\n",
            "Intermediate reward at idx 127 update is 0\n",
            "Discounted reward at idx 127 update is 0.0\n",
            "Intermediate reward at idx 128 update is 100\n",
            "Discounted reward at idx 128 update is 99.0\n",
            "Intermediate reward at idx 129 update is 0\n",
            "Discounted reward at idx 129 update is 0.0\n",
            "Intermediate reward at idx 130 update is 200\n",
            "Discounted reward at idx 130 update is 198.0\n",
            "Intermediate reward at idx 131 update is 400\n",
            "Discounted reward at idx 131 update is 396.0\n",
            "Intermediate reward at idx 132 update is 0\n",
            "Discounted reward at idx 132 update is 0.0\n",
            "Intermediate reward at idx 133 update is 0\n",
            "Discounted reward at idx 133 update is 0.0\n",
            "Intermediate reward at idx 134 update is 700\n",
            "Discounted reward at idx 134 update is 693.0\n",
            "Intermediate reward at idx 135 update is 400\n",
            "Discounted reward at idx 135 update is 396.0\n",
            "Intermediate reward at idx 136 update is 0\n",
            "Discounted reward at idx 136 update is 0.0\n",
            "Intermediate reward at idx 137 update is 300\n",
            "Discounted reward at idx 137 update is 297.0\n",
            "Intermediate reward at idx 138 update is 700\n",
            "Discounted reward at idx 138 update is 693.0\n",
            "Intermediate reward at idx 139 update is 200\n",
            "Discounted reward at idx 139 update is 198.0\n",
            "Intermediate reward at idx 140 update is 0\n",
            "Discounted reward at idx 140 update is 0.0\n",
            "Intermediate reward at idx 141 update is 0\n",
            "Discounted reward at idx 141 update is 0.0\n",
            "Intermediate reward at idx 142 update is 0\n",
            "Discounted reward at idx 142 update is 0.0\n",
            "Intermediate reward at idx 143 update is 600\n",
            "Discounted reward at idx 143 update is 594.0\n",
            "Intermediate reward at idx 144 update is 0\n",
            "Discounted reward at idx 144 update is 0.0\n",
            "Intermediate reward at idx 145 update is 400\n",
            "Discounted reward at idx 145 update is 396.0\n",
            "Intermediate reward at idx 146 update is 200\n",
            "Discounted reward at idx 146 update is 198.0\n",
            "Intermediate reward at idx 147 update is 300\n",
            "Discounted reward at idx 147 update is 297.0\n",
            "Intermediate reward at idx 148 update is 500\n",
            "Discounted reward at idx 148 update is 495.0\n",
            "Intermediate reward at idx 149 update is 400\n",
            "Discounted reward at idx 149 update is 396.0\n",
            "Intermediate reward at idx 150 update is 100\n",
            "Discounted reward at idx 150 update is 99.0\n",
            "Intermediate reward at idx 151 update is 0\n",
            "Discounted reward at idx 151 update is 0.0\n",
            "Intermediate reward at idx 152 update is 0\n",
            "Discounted reward at idx 152 update is 0.0\n",
            "Intermediate reward at idx 153 update is -100\n",
            "Discounted reward at idx 153 update is -99.0\n",
            "Intermediate reward at idx 154 update is 200\n",
            "Discounted reward at idx 154 update is 198.0\n",
            "Intermediate reward at idx 155 update is 500\n",
            "Discounted reward at idx 155 update is 495.0\n",
            "Intermediate reward at idx 156 update is 100\n",
            "Discounted reward at idx 156 update is 99.0\n",
            "Intermediate reward at idx 157 update is 100\n",
            "Discounted reward at idx 157 update is 99.0\n",
            "Intermediate reward at idx 158 update is 100\n",
            "Discounted reward at idx 158 update is 99.0\n",
            "Intermediate reward at idx 159 update is 0\n",
            "Discounted reward at idx 159 update is 0.0\n",
            "Intermediate reward at idx 160 update is 400\n",
            "Discounted reward at idx 160 update is 396.0\n",
            "Intermediate reward at idx 161 update is 500\n",
            "Discounted reward at idx 161 update is 495.0\n",
            "Intermediate reward at idx 162 update is 100\n",
            "Discounted reward at idx 162 update is 99.0\n",
            "Intermediate reward at idx 163 update is 400\n",
            "Discounted reward at idx 163 update is 396.0\n",
            "Intermediate reward at idx 164 update is 0\n",
            "Discounted reward at idx 164 update is 0.0\n",
            "Intermediate reward at idx 165 update is 0\n",
            "Discounted reward at idx 165 update is 0.0\n",
            "Intermediate reward at idx 166 update is 0\n",
            "Discounted reward at idx 166 update is 0.0\n",
            "Intermediate reward at idx 167 update is 400\n",
            "Discounted reward at idx 167 update is 396.0\n",
            "Intermediate reward at idx 168 update is 100\n",
            "Discounted reward at idx 168 update is 99.0\n",
            "Intermediate reward at idx 169 update is 0\n",
            "Discounted reward at idx 169 update is 0.0\n",
            "Intermediate reward at idx 170 update is 400\n",
            "Discounted reward at idx 170 update is 396.0\n",
            "Intermediate reward at idx 171 update is 400\n",
            "Discounted reward at idx 171 update is 396.0\n",
            "Intermediate reward at idx 172 update is 200\n",
            "Discounted reward at idx 172 update is 198.0\n",
            "Intermediate reward at idx 173 update is -100\n",
            "Discounted reward at idx 173 update is -99.0\n",
            "Intermediate reward at idx 174 update is 500\n",
            "Discounted reward at idx 174 update is 495.0\n",
            "Intermediate reward at idx 175 update is 100\n",
            "Discounted reward at idx 175 update is 99.0\n",
            "Intermediate reward at idx 176 update is 0\n",
            "Discounted reward at idx 176 update is 0.0\n",
            "Intermediate reward at idx 177 update is 0\n",
            "Discounted reward at idx 177 update is 0.0\n",
            "Intermediate reward at idx 178 update is 100\n",
            "Discounted reward at idx 178 update is 99.0\n",
            "Intermediate reward at idx 179 update is 0\n",
            "Discounted reward at idx 179 update is 0.0\n",
            "Intermediate reward at idx 180 update is 700\n",
            "Discounted reward at idx 180 update is 693.0\n",
            "Intermediate reward at idx 181 update is 500\n",
            "Discounted reward at idx 181 update is 495.0\n",
            "Intermediate reward at idx 182 update is 500\n",
            "Discounted reward at idx 182 update is 495.0\n",
            "Intermediate reward at idx 183 update is 500\n",
            "Discounted reward at idx 183 update is 495.0\n",
            "Intermediate reward at idx 184 update is 500\n",
            "Discounted reward at idx 184 update is 495.0\n",
            "Intermediate reward at idx 185 update is 200\n",
            "Discounted reward at idx 185 update is 198.0\n",
            "Intermediate reward at idx 186 update is 200\n",
            "Discounted reward at idx 186 update is 198.0\n",
            "Intermediate reward at idx 187 update is 0\n",
            "Discounted reward at idx 187 update is 0.0\n",
            "Intermediate reward at idx 188 update is 0\n",
            "Discounted reward at idx 188 update is 0.0\n",
            "Intermediate reward at idx 189 update is 100\n",
            "Discounted reward at idx 189 update is 99.0\n",
            "Intermediate reward at idx 190 update is 100\n",
            "Discounted reward at idx 190 update is 99.0\n",
            "Intermediate reward at idx 191 update is 0\n",
            "Discounted reward at idx 191 update is 0.0\n",
            "Intermediate reward at idx 192 update is 500\n",
            "Discounted reward at idx 192 update is 495.0\n",
            "Intermediate reward at idx 193 update is 500\n",
            "Discounted reward at idx 193 update is 495.0\n",
            "Intermediate reward at idx 194 update is 500\n",
            "Discounted reward at idx 194 update is 495.0\n",
            "Intermediate reward at idx 195 update is 100\n",
            "Discounted reward at idx 195 update is 99.0\n",
            "Intermediate reward at idx 196 update is 100\n",
            "Discounted reward at idx 196 update is 99.0\n",
            "Intermediate reward at idx 197 update is 0\n",
            "Discounted reward at idx 197 update is 0.0\n",
            "Intermediate reward at idx 198 update is 100\n",
            "Discounted reward at idx 198 update is 99.0\n",
            "Intermediate reward at idx 199 update is 400\n",
            "Discounted reward at idx 199 update is 396.0\n"
          ]
        }
      ],
      "source": [
        "env = gym.make(\"DeadlyGrid-v0\")\n",
        "\n",
        "states = np.prod(env.observation_space.shape)\n",
        "actions = env.action_space.n\n",
        "\n",
        "lr = 0.001\n",
        "model = MLP(states, actions)\n",
        "\n",
        "# Defining the loss function\n",
        "loss_func = nn.MSELoss()\n",
        "\n",
        "# Defining optimizer\n",
        "optimizer = torch.optim.Adam(model.parameters(), lr=lr)\n",
        "\n",
        "rew_inter_arr, discounted_rew_arr = the_loop(model, env, loss_func, exp_replay = True, num_update_steps = 100000, num_episodes = 100, eval_steps = 20)\n",
        "\n",
        "# Save the model weights\n",
        "torch.save(model.state_dict(), \"models/2d_track_with_exp_replay.pt\")"
      ]
    },
    {
      "cell_type": "code",
      "execution_count": 15,
      "metadata": {},
      "outputs": [
        {
          "data": {
            "text/plain": [
              "[<matplotlib.lines.Line2D at 0x7fad232d8370>]"
            ]
          },
          "execution_count": 15,
          "metadata": {},
          "output_type": "execute_result"
        },
        {
          "data": {
            "image/png": "[encoded data removed]",
            "text/plain": [
              "<Figure size 640x480 with 1 Axes>"
            ]
          },
          "metadata": {},
          "output_type": "display_data"
        }
      ],
      "source": [
        "plt.plot(rew_inter_arr)\n",
        "plt.plot(discounted_rew_arr)"
      ]
    },
    {
      "cell_type": "code",
      "execution_count": 17,
      "metadata": {},
      "outputs": [],
      "source": [
        "def load_model_env(env, path_to_model):\n",
        "    states = np.prod(env.observation_space.shape)\n",
        "    actions = env.action_space.n\n",
        "\n",
        "    m_load = MLP(states, actions) \n",
        "    m_load.load_state_dict(torch.load(path_to_model))\n",
        "\n",
        "    return m_load"
      ]
    },
    {
      "cell_type": "code",
      "execution_count": 25,
      "metadata": {},
      "outputs": [],
      "source": [
        "env_linear = gym.make(\"LinearTrack-v0\")\n",
        "env_2d = gym.make(\"DeadlyGrid-v0\")\n",
        "\n",
        "no_exp_replay = load_model_env(env_linear, \"models/vanilla_linear_track_no_exp_replay.pt\")\n",
        "\n",
        "with_exp_replay = load_model_env(env_linear, \"models/vanilla_linear_track_with_exp_replay.pt\")\n",
        "\n",
        "with_exp_replay_2d = load_model_env(env_2d, \"models/2d_track_with_exp_replay.pt\")"
      ]
    },
    {
      "cell_type": "code",
      "execution_count": 11,
      "metadata": {},
      "outputs": [],
      "source": [
        "m_gold = load_model_env(env_linear, \"models/vanilla_linear_track_upd.pt\")"
      ]
    },
    {
      "cell_type": "code",
      "execution_count": 12,
      "metadata": {},
      "outputs": [],
      "source": [
        "m_diamond = load_model_env(env_linear, \"models/vanilla_linear_track_diamond.pt\")"
      ]
    },
    {
      "cell_type": "code",
      "execution_count": 19,
      "metadata": {},
      "outputs": [],
      "source": [
        "def run_trained_model_visual(env, model, num_steps = 20):\n",
        "    current_state, obs_to_render = env.reset_with_render()\n",
        "    env.render(obs_to_render)\n",
        "    rew_total = 0\n",
        "\n",
        "    # put the model in inference mode\n",
        "    model.eval()\n",
        "    done = False \n",
        "\n",
        "    for _ in range(num_steps):\n",
        "        action = torch.argmax(model(torch.Tensor(current_state.flatten()))).item()    \n",
        "        current_state, rew , done, _, obs_to_render = env.step_with_render(action)\n",
        "        env.render(obs_to_render)\n",
        "        display.display(plt.gcf())\n",
        "        display.clear_output(wait=True)\n",
        "        rew_total += rew\n",
        "\n",
        "        if done:\n",
        "            break\n",
        "        \n",
        "    print(f\"The total reward in this episode is: {rew_total}\")"
      ]
    },
    {
      "cell_type": "code",
      "execution_count": 26,
      "metadata": {},
      "outputs": [
        {
          "name": "stdout",
          "output_type": "stream",
          "text": [
            "The total reward in this episode is: 200\n"
          ]
        },
        {
          "data": {
            "image/png": "[encoded data removed]",
            "text/plain": [
              "<Figure size 640x480 with 1 Axes>"
            ]
          },
          "metadata": {},
          "output_type": "display_data"
        }
      ],
      "source": [
        "# TODO: WHY THE FUCK IT STARTS IN THE MIDDLE OF THE GRID???????\n",
        "run_trained_model_visual(env_2d, with_exp_replay_2d)"
      ]
    },
    {
      "cell_type": "code",
      "execution_count": 28,
      "metadata": {},
      "outputs": [
        {
          "name": "stdout",
          "output_type": "stream",
          "text": [
            "The total reward in this episode is: 10000\n"
          ]
        },
        {
          "data": {
            "image/png": "[encoded data removed]",
            "text/plain": [
              "<Figure size 640x480 with 1 Axes>"
            ]
          },
          "metadata": {},
          "output_type": "display_data"
        }
      ],
      "source": [
        "run_trained_model_visual(env_linear, no_exp_replay)"
      ]
    },
    {
      "cell_type": "code",
      "execution_count": 29,
      "metadata": {},
      "outputs": [
        {
          "name": "stdout",
          "output_type": "stream",
          "text": [
            "The total reward in this episode is: 10000\n"
          ]
        },
        {
          "data": {
            "image/png": "[encoded data removed]",
            "text/plain": [
              "<Figure size 640x480 with 1 Axes>"
            ]
          },
          "metadata": {},
          "output_type": "display_data"
        }
      ],
      "source": [
        "run_trained_model_visual(env_linear, with_exp_replay)"
      ]
    },
    {
      "cell_type": "code",
      "execution_count": 17,
      "metadata": {},
      "outputs": [
        {
          "name": "stdout",
          "output_type": "stream",
          "text": [
            "The total reward in this episode is: 700\n"
          ]
        },
        {
          "data": {
            "image/png": "[encoded data removed]",
            "text/plain": [
              "<Figure size 640x480 with 1 Axes>"
            ]
          },
          "metadata": {},
          "output_type": "display_data"
        }
      ],
      "source": [
        "run_trained_model_visual(env_linear, m_gold)"
      ]
    },
    {
      "cell_type": "code",
      "execution_count": 18,
      "metadata": {},
      "outputs": [
        {
          "name": "stdout",
          "output_type": "stream",
          "text": [
            "The total reward in this episode is: 10000\n"
          ]
        },
        {
          "data": {
            "image/png": "[encoded data removed]",
            "text/plain": [
              "<Figure size 640x480 with 1 Axes>"
            ]
          },
          "metadata": {},
          "output_type": "display_data"
        }
      ],
      "source": [
        "# Ths 30 mins of training\n",
        "run_trained_model_visual(env_linear, m_diamond)"
      ]
    },
    {
      "cell_type": "markdown",
      "metadata": {},
      "source": [
        "Note for the report:\n",
        "\n",
        "This weird behaviour of aquiring a diamond was due to the fact that the model was updating its gradient for 20000 * 50 times instead of just 20000.\n",
        "And consequently, it took almost eternity to do so:) "
      ]
    },
    {
      "cell_type": "markdown",
      "metadata": {},
      "source": [
        "# Ideas: \n",
        "\n",
        "In the definition of environment:\n",
        "- Create a small negative reward (-10) for every step taken\n",
        "- Create a negative reward (-100) for the wall hitting \n",
        "- Decrease discount fact to be more miopic\n",
        "- Implement exponentially annealing epsilon"
      ]
    },
    {
      "cell_type": "markdown",
      "metadata": {},
      "source": [
        "### Deadly grid"
      ]
    },
    {
      "cell_type": "code",
      "execution_count": 16,
      "metadata": {},
      "outputs": [
        {
          "data": {
            "image/png": "[encoded data removed]",
            "text/plain": [
              "<Figure size 640x480 with 1 Axes>"
            ]
          },
          "metadata": {},
          "output_type": "display_data"
        }
      ],
      "source": [
        "env_grid = gym.make(\"DeadlyGrid-v0\")\n",
        "obs, obs_to_render = env_grid.reset_with_render()\n",
        "env_grid.render(obs_to_render)"
      ]
    },
    {
      "cell_type": "code",
      "execution_count": null,
      "metadata": {},
      "outputs": [],
      "source": [
        "states_grid = np.prod(env_grid.observation_space.shape)\n",
        "actions_grid = env_grid.action_space.n\n",
        "\n",
        "lr = 0.001\n",
        "model = MLP(states_grid, actions_grid)\n",
        "\n",
        "# Defining the loss function\n",
        "loss_func = nn.MSELoss()\n",
        "\n",
        "# Defining optimizer\n",
        "optimizer = torch.optim.Adam(model.parameters(), lr=lr)\n",
        "\n",
        "#print(model.layers[2].weight)\n",
        "rew_inter_arr, discounted_rew_arr = the_loop(model, env_grid, loss_func, num_update_steps = 100000, num_episodes = 100, eval_steps = 20)\n",
        "#print(model.layers[2].weight)\n",
        "\n",
        "# Save the model weights\n",
        "torch.save(model.state_dict(), \"models/vanilla_2d_track.pt\")"
      ]
    },
    {
      "cell_type": "code",
      "execution_count": 36,
      "metadata": {},
      "outputs": [
        {
          "data": {
            "text/plain": [
              "[<matplotlib.lines.Line2D at 0x7f7cdfdf11f0>]"
            ]
          },
          "execution_count": 36,
          "metadata": {},
          "output_type": "execute_result"
        },
        {
          "data": {
            "image/png": "[encoded data removed]",
            "text/plain": [
              "<Figure size 640x480 with 1 Axes>"
            ]
          },
          "metadata": {},
          "output_type": "display_data"
        }
      ],
      "source": [
        "plt.plot(np.arange(0, 100000, 500), rew_inter_arr)"
      ]
    },
    {
      "cell_type": "code",
      "execution_count": 19,
      "metadata": {},
      "outputs": [
        {
          "name": "stdout",
          "output_type": "stream",
          "text": [
            "The total reward in this episode is: 500\n"
          ]
        },
        {
          "data": {
            "image/png": "[encoded data removed]",
            "text/plain": [
              "<Figure size 640x480 with 1 Axes>"
            ]
          },
          "metadata": {},
          "output_type": "display_data"
        }
      ],
      "source": [
        "m_grid = load_model_env(env_grid, \"models/vanilla_2d_track.pt\")\n",
        "run_trained_model_visual(env_grid, m_grid)"
      ]
    },
    {
      "cell_type": "markdown",
      "metadata": {},
      "source": [
        "# Experience replay:\n",
        "\n",
        "Let's add experience replay to this dumb agent above in hope that it will remember some cool transitions from the past:"
      ]
    },
    {
      "cell_type": "code",
      "execution_count": 22,
      "metadata": {},
      "outputs": [],
      "source": []
    },
    {
      "cell_type": "code",
      "execution_count": null,
      "metadata": {},
      "outputs": [],
      "source": [
        "# Example on how to use this mofo?\n",
        "\n",
        "# A) Initialize with shape tuple (assuming state is represented by 4 values)\n",
        "exp_buffer = ExperienceBuffer((4,1,1,4))\n",
        "\n",
        "# B) Add some items to the buffer (5 items)\n",
        "exp_buffer.add(np.array([1,2,3,4]), 1, 2, np.array([1,2,3,90]))\n",
        "exp_buffer.add(np.array([10,20,30,40]), 1, 0, np.array([1,2,3,90]))\n",
        "exp_buffer.add(np.array([1000,20,30,4000]), 1, 0, np.array([12,22,32,290]))\n",
        "exp_buffer.add(np.array([1,2,3,4]), 3, 2, np.array([0,0,0,0]))\n",
        "exp_buffer.add(np.array([1,1,1,1]), 3, 1, np.array([1,2,3,90]))\n",
        "\n",
        "# C) Get a batch using a batch_size bigger than number of items (all items)\n",
        "exp_batch = exp_buffer.get_next()\n",
        "print(exp_batch.rewards)\n",
        "\n",
        "# D) Get a batch using a batch_size smaller than number of items (random sample)\n",
        "exp_batch = exp_buffer.get_next(batch_size=2)\n",
        "print(exp_batch.rewards)\n",
        "\n",
        "# E) Just printing the buffer stats\n",
        "print(exp_buffer)"
      ]
    },
    {
      "cell_type": "code",
      "execution_count": null,
      "metadata": {},
      "outputs": [],
      "source": [
        "# Let's try to train the model with experience replay buffer:\n"
      ]
    },
    {
      "cell_type": "code",
      "execution_count": null,
      "metadata": {},
      "outputs": [],
      "source": []
    }
  ],
  "metadata": {
    "colab": {
      "provenance": []
    },
    "kernelspec": {
      "display_name": "Python 3.8.16 ('rl')",
      "language": "python",
      "name": "python3"
    },
    "language_info": {
      "codemirror_mode": {
        "name": "ipython",
        "version": 3
      },
      "file_extension": ".py",
      "mimetype": "text/x-python",
      "name": "python",
      "nbconvert_exporter": "python",
      "pygments_lexer": "ipython3",
      "version": "3.8.16"
    },
    "vscode": {
      "interpreter": {
        "hash": "c25481a37c867f9d7b699f30bdc844d80a3cf3af189b3436969c74dfed48b955"
      }
    }
  },
  "nbformat": 4,
  "nbformat_minor": 0
}
