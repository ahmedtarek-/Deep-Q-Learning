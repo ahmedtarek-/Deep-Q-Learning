{
  "cells": [
    {
      "cell_type": "code",
      "execution_count": 1,
      "metadata": {
        "colab": {
          "base_uri": "https://localhost:8080/"
        },
        "id": "H47kubNqOBlx",
        "outputId": "3164936b-9c89-4025-bb9b-8b10c037a15e"
      },
      "outputs": [
        {
          "output_type": "stream",
          "name": "stdout",
          "text": [
            "Cloning into 'Deep-Q-Learning'...\n",
            "remote: Enumerating objects: 187, done.\u001b[K\n",
            "remote: Counting objects: 100% (187/187), done.\u001b[K\n",
            "remote: Compressing objects: 100% (130/130), done.\u001b[K\n",
            "remote: Total 187 (delta 98), reused 131 (delta 52), pack-reused 0\u001b[K\n",
            "Receiving objects: 100% (187/187), 341.68 KiB | 6.83 MiB/s, done.\n",
            "Resolving deltas: 100% (98/98), done.\n",
            "Deep-Q-Learning  notebooks  requirements.txt  sample_data\n",
            "gym_grid\t README.md  results\t      training\n"
          ]
        }
      ],
      "source": [
        "# Cloning the required files from git directly to avoid pain\n",
        "!git clone https://github.com/ahmedtarek-/Deep-Q-Learning.git\n",
        "!cp -r Deep-Q-Learning/* .\n",
        "!ls"
      ]
    },
    {
      "cell_type": "code",
      "execution_count": 2,
      "metadata": {
        "id": "iRVmEH4fOX3z",
        "colab": {
          "base_uri": "https://localhost:8080/"
        },
        "outputId": "d50a9e39-1762-4c22-bd0b-b596a5c61553"
      },
      "outputs": [
        {
          "output_type": "stream",
          "name": "stdout",
          "text": [
            "\u001b[?25l     \u001b[90m━━━━━━━━━━━━━━━━━━━━━━━━━━━━━━━━━━━━━━━━\u001b[0m \u001b[32m0.0/1.6 MB\u001b[0m \u001b[31m?\u001b[0m eta \u001b[36m-:--:--\u001b[0m\r\u001b[2K     \u001b[91m╸\u001b[0m\u001b[90m━━━━━━━━━━━━━━━━━━━━━━━━━━━━━━━━━━━━━━━\u001b[0m \u001b[32m0.0/1.6 MB\u001b[0m \u001b[31m816.6 kB/s\u001b[0m eta \u001b[36m0:00:02\u001b[0m\r\u001b[2K     \u001b[91m━━━━━━\u001b[0m\u001b[90m╺\u001b[0m\u001b[90m━━━━━━━━━━━━━━━━━━━━━━━━━━━━━━━━━\u001b[0m \u001b[32m0.2/1.6 MB\u001b[0m \u001b[31m3.2 MB/s\u001b[0m eta \u001b[36m0:00:01\u001b[0m\r\u001b[2K     \u001b[91m━━━━━━━━━━━━━\u001b[0m\u001b[91m╸\u001b[0m\u001b[90m━━━━━━━━━━━━━━━━━━━━━━━━━━\u001b[0m \u001b[32m0.5/1.6 MB\u001b[0m \u001b[31m5.0 MB/s\u001b[0m eta \u001b[36m0:00:01\u001b[0m\r\u001b[2K     \u001b[91m━━━━━━━━━━━━━━━━━━━━━━\u001b[0m\u001b[91m╸\u001b[0m\u001b[90m━━━━━━━━━━━━━━━━━\u001b[0m \u001b[32m0.9/1.6 MB\u001b[0m \u001b[31m6.1 MB/s\u001b[0m eta \u001b[36m0:00:01\u001b[0m\r\u001b[2K     \u001b[91m━━━━━━━━━━━━━━━━━━━━━━━━━━━━━━━━\u001b[0m\u001b[91m╸\u001b[0m\u001b[90m━━━━━━━\u001b[0m \u001b[32m1.3/1.6 MB\u001b[0m \u001b[31m7.1 MB/s\u001b[0m eta \u001b[36m0:00:01\u001b[0m\r\u001b[2K     \u001b[91m━━━━━━━━━━━━━━━━━━━━━━━━━━━━━━━━━━━━━━━\u001b[0m\u001b[91m╸\u001b[0m \u001b[32m1.6/1.6 MB\u001b[0m \u001b[31m7.7 MB/s\u001b[0m eta \u001b[36m0:00:01\u001b[0m\r\u001b[2K     \u001b[90m━━━━━━━━━━━━━━━━━━━━━━━━━━━━━━━━━━━━━━━━\u001b[0m \u001b[32m1.6/1.6 MB\u001b[0m \u001b[31m6.9 MB/s\u001b[0m eta \u001b[36m0:00:00\u001b[0m\n",
            "\u001b[?25h  Preparing metadata (setup.py) ... \u001b[?25l\u001b[?25hdone\n",
            "\u001b[2K     \u001b[90m━━━━━━━━━━━━━━━━━━━━━━━━━━━━━━━━━━━━━━━━\u001b[0m \u001b[32m1.0/1.0 MB\u001b[0m \u001b[31m11.7 MB/s\u001b[0m eta \u001b[36m0:00:00\u001b[0m\n",
            "\u001b[?25h  Building wheel for gym (setup.py) ... \u001b[?25l\u001b[?25hdone\n",
            "\u001b[31mERROR: pip's dependency resolver does not currently take into account all the packages that are installed. This behaviour is the source of the following dependency conflicts.\n",
            "distributed 2022.12.1 requires cloudpickle>=1.5.0, but you have cloudpickle 1.2.2 which is incompatible.\n",
            "tensorflow-probability 0.20.1 requires cloudpickle>=1.3, but you have cloudpickle 1.2.2 which is incompatible.\u001b[0m\u001b[31m\n",
            "\u001b[2K     \u001b[90m━━━━━━━━━━━━━━━━━━━━━━━━━━━━━━━━━━━━━━━\u001b[0m \u001b[32m165.7/165.7 kB\u001b[0m \u001b[31m1.8 MB/s\u001b[0m eta \u001b[36m0:00:00\u001b[0m\n",
            "\u001b[?25h\u001b[31mERROR: Could not find a version that satisfies the requirement torch==1.2.0 (from versions: 1.11.0, 1.12.0, 1.12.1, 1.13.0, 1.13.1, 2.0.0, 2.0.1)\u001b[0m\u001b[31m\n",
            "\u001b[0m\u001b[31mERROR: No matching distribution found for torch==1.2.0\u001b[0m\u001b[31m\n",
            "\u001b[0m"
          ]
        }
      ],
      "source": [
        "# Install required packages\n",
        "!pip install -q gym==0.15.4\n",
        "!pip install -q pycolab==1.2\n",
        "!pip install -q torch==1.2.0\n",
        "# !pip install -q matplotlib==3.1.2"
      ]
    },
    {
      "cell_type": "code",
      "execution_count": 3,
      "metadata": {
        "id": "zrTVat-fUhJL"
      },
      "outputs": [],
      "source": [
        "# Adding /training to sys path\n",
        "%load_ext autoreload\n",
        "%autoreload 2\n",
        "\n",
        "import sys\n",
        "sys.path.append('training/')"
      ]
    },
    {
      "cell_type": "markdown",
      "metadata": {
        "id": "fNe9D45WOf_b"
      },
      "source": [
        "## A) Simulating the `main.py` file"
      ]
    },
    {
      "cell_type": "markdown",
      "metadata": {
        "id": "SSbwFS_ZOswR"
      },
      "source": [
        "### 1. Imports and load config"
      ]
    },
    {
      "cell_type": "code",
      "execution_count": 4,
      "metadata": {
        "colab": {
          "base_uri": "https://localhost:8080/"
        },
        "id": "8QvrEfK_OiSm",
        "outputId": "f22bcda2-c841-4f13-dd6b-0e154c70c817"
      },
      "outputs": [
        {
          "output_type": "stream",
          "name": "stdout",
          "text": [
            "The autoreload extension is already loaded. To reload it, use:\n",
            "  %reload_ext autoreload\n"
          ]
        }
      ],
      "source": [
        "%load_ext autoreload\n",
        "%autoreload 2\n",
        "\n",
        "import yaml\n",
        "from trainer import Trainer\n",
        "from result import Result\n",
        "\n",
        "import gym\n",
        "import gym_grid\n",
        "\n",
        "with open('training/config.yaml') as f:\n",
        "  config = yaml.safe_load(f)['training_config']"
      ]
    },
    {
      "cell_type": "code",
      "source": [
        "# Adjust config\n",
        "config['num_update_steps'] = 5000\n",
        "config['eval_steps'] = 20\n",
        "config['debug'] = True"
      ],
      "metadata": {
        "id": "cCC6bgNw035Z"
      },
      "execution_count": 5,
      "outputs": []
    },
    {
      "cell_type": "markdown",
      "metadata": {
        "id": "31mWIC6ZOwmc"
      },
      "source": [
        "### 2. Trainer and the loop"
      ]
    },
    {
      "cell_type": "code",
      "execution_count": 6,
      "metadata": {
        "colab": {
          "base_uri": "https://localhost:8080/"
        },
        "id": "9IY82oQcOyrg",
        "outputId": "434b62ca-2d99-42b9-cfcf-71b11f7d238d"
      },
      "outputs": [
        {
          "output_type": "stream",
          "name": "stderr",
          "text": [
            "/usr/local/lib/python3.10/dist-packages/pycolab/ascii_art.py:318: FutureWarning: arrays to stack must be passed as a \"sequence\" type such as list or tuple. Support for non-sequence iterables such as generators is deprecated as of NumPy 1.16 and will raise an error in the future.\n",
            "  art = np.vstack(np.fromstring(line, dtype=np.uint8) for line in art)\n",
            "/usr/local/lib/python3.10/dist-packages/torch/nn/modules/loss.py:536: UserWarning: Using a target size (torch.Size([1])) that is different to the input size (torch.Size([1, 1])). This will likely lead to incorrect results due to broadcasting. Please ensure they have the same size.\n",
            "  return F.mse_loss(input, target, reduction=self.reduction)\n"
          ]
        },
        {
          "output_type": "stream",
          "name": "stdout",
          "text": [
            "Intermediate reward at idx 0 update is 0\n",
            "Discounted reward at idx 0 update is 0.0\n",
            "\n",
            "======= Debug =========\n",
            "num_update_steps:  5000\n",
            "counter:  0\n",
            "evaluate_at:  500\n",
            "======= End Debug =========\n",
            "Intermediate reward at idx 1 update is 100\n",
            "Discounted reward at idx 1 update is 99.0\n",
            "\n",
            "======= Debug =========\n",
            "num_update_steps:  5000\n",
            "counter:  500\n",
            "evaluate_at:  500\n",
            "======= End Debug =========\n",
            "Intermediate reward at idx 2 update is 10000\n",
            "Discounted reward at idx 2 update is 9900.0\n",
            "\n",
            "======= Debug =========\n",
            "num_update_steps:  5000\n",
            "counter:  1000\n",
            "evaluate_at:  500\n",
            "======= End Debug =========\n",
            "Intermediate reward at idx 3 update is 700\n",
            "Discounted reward at idx 3 update is 693.0\n",
            "\n",
            "======= Debug =========\n",
            "num_update_steps:  5000\n",
            "counter:  1500\n",
            "evaluate_at:  500\n",
            "======= End Debug =========\n",
            "Intermediate reward at idx 4 update is 700\n",
            "Discounted reward at idx 4 update is 693.0\n",
            "\n",
            "======= Debug =========\n",
            "num_update_steps:  5000\n",
            "counter:  2000\n",
            "evaluate_at:  500\n",
            "======= End Debug =========\n",
            "Intermediate reward at idx 5 update is 10000\n",
            "Discounted reward at idx 5 update is 9900.0\n",
            "\n",
            "======= Debug =========\n",
            "num_update_steps:  5000\n",
            "counter:  2500\n",
            "evaluate_at:  500\n",
            "======= End Debug =========\n",
            "Intermediate reward at idx 6 update is 10000\n",
            "Discounted reward at idx 6 update is 9900.0\n",
            "\n",
            "======= Debug =========\n",
            "num_update_steps:  5000\n",
            "counter:  3000\n",
            "evaluate_at:  500\n",
            "======= End Debug =========\n",
            "Intermediate reward at idx 7 update is 10000\n",
            "Discounted reward at idx 7 update is 9900.0\n",
            "\n",
            "======= Debug =========\n",
            "num_update_steps:  5000\n",
            "counter:  3500\n",
            "evaluate_at:  500\n",
            "======= End Debug =========\n",
            "Intermediate reward at idx 8 update is 10000\n",
            "Discounted reward at idx 8 update is 9900.0\n",
            "\n",
            "======= Debug =========\n",
            "num_update_steps:  5000\n",
            "counter:  4000\n",
            "evaluate_at:  500\n",
            "======= End Debug =========\n",
            "Intermediate reward at idx 9 update is 10000\n",
            "Discounted reward at idx 9 update is 9900.0\n",
            "\n",
            "======= Debug =========\n",
            "num_update_steps:  5000\n",
            "counter:  4500\n",
            "evaluate_at:  500\n",
            "======= End Debug =========\n"
          ]
        }
      ],
      "source": [
        "loop_params = {\n",
        "    'num_update_steps': 5000,\n",
        "    'eval_steps': 20,\n",
        "    'debug': True\n",
        "}\n",
        "\n",
        "trainer = Trainer(env_name=config[\"env_name\"])\n",
        "\n",
        "# 4. Run a training loop\n",
        "training_rewards, training_discounted_rewards = trainer.the_loop(**loop_params)"
      ]
    },
    {
      "cell_type": "markdown",
      "metadata": {
        "id": "dLFbmllKOzik"
      },
      "source": [
        "### 3. Calling Result"
      ]
    },
    {
      "cell_type": "code",
      "execution_count": 7,
      "metadata": {
        "id": "w00AnmllO1b7",
        "colab": {
          "base_uri": "https://localhost:8080/",
          "height": 430
        },
        "outputId": "e787cf4a-b44d-4468-9787-5f1cf0e5fed6"
      },
      "outputs": [
        {
          "output_type": "display_data",
          "data": {
            "text/plain": [
              "<Figure size 640x480 with 1 Axes>"
            ],
            "image/png": "[encoded data removed]"
          },
          "metadata": {}
        }
      ],
      "source": [
        "Result(\n",
        "  model=trainer.model,\n",
        "  rewards=training_rewards,\n",
        "  disc_rewards=training_discounted_rewards,\n",
        "  env_name=config[\"env_name\"]).save(plot=True)"
      ]
    },
    {
      "cell_type": "markdown",
      "metadata": {
        "id": "krZngxMuO3SL"
      },
      "source": [
        "### 4. Running our simulation"
      ]
    },
    {
      "cell_type": "markdown",
      "metadata": {
        "id": "DJ3QCvnePCc_"
      },
      "source": [
        "#### 4.1 Method to load env"
      ]
    },
    {
      "cell_type": "code",
      "execution_count": 14,
      "metadata": {
        "id": "c1oL2s0vPHaW"
      },
      "outputs": [],
      "source": [
        "import torch\n",
        "import numpy as np\n",
        "from mlp import MLP\n",
        "\n",
        "import matplotlib.pyplot as plt\n",
        "from IPython import display\n",
        "\n",
        "def load_model_env(env, path_to_model):\n",
        "    states = np.prod(env.observation_space.shape)\n",
        "    actions = env.action_space.n\n",
        "\n",
        "    m_load = MLP(states, actions)\n",
        "    m_load.load_state_dict(torch.load(path_to_model))\n",
        "\n",
        "    return m_load"
      ]
    },
    {
      "cell_type": "markdown",
      "metadata": {
        "id": "gp1KV_x9O-YV"
      },
      "source": [
        "#### 4.2 Method to visualise"
      ]
    },
    {
      "cell_type": "code",
      "execution_count": 15,
      "metadata": {
        "id": "6zbH8XnvO5As"
      },
      "outputs": [],
      "source": [
        "def run_trained_model_visual(env, model, num_steps = 20):\n",
        "    current_state, obs_to_render = env.reset_with_render()\n",
        "    env.render(obs_to_render)\n",
        "    rew_total = 0\n",
        "\n",
        "    # put the model in inference mode\n",
        "    model.eval()\n",
        "    done = False\n",
        "\n",
        "    for _ in range(num_steps):\n",
        "        action = torch.argmax(model(torch.Tensor(current_state.flatten()))).item()\n",
        "        current_state, rew , done, _, obs_to_render = env.step_with_render(action)\n",
        "        env.render(obs_to_render)\n",
        "        display.display(plt.gcf())\n",
        "        display.clear_output(wait=True)\n",
        "        rew_total += rew\n",
        "\n",
        "        if done:\n",
        "            break\n",
        "\n",
        "    print(f\"The total reward in this episode is: {rew_total}\")"
      ]
    },
    {
      "cell_type": "markdown",
      "source": [
        "#### 4.3 Testing the mf"
      ],
      "metadata": {
        "id": "y05U2eFGBcV5"
      }
    },
    {
      "cell_type": "code",
      "source": [
        "env_linear = gym.make(\"LinearTrack-v0\")\n",
        "env_2d = gym.make(\"DeadlyGrid-v0\")\n",
        "\n",
        "model = load_model_env(env_linear, \"/content/results/models/1d_track/28_07_2023-10:22_model.pt\")\n",
        "\n",
        "run_trained_model_visual(env_linear, model, num_steps = 20)"
      ],
      "metadata": {
        "colab": {
          "base_uri": "https://localhost:8080/",
          "height": 101
        },
        "id": "OaKW6NzpBd8M",
        "outputId": "a7784f6b-9ab8-4a9d-cfeb-5bb5d3be7a9c"
      },
      "execution_count": 17,
      "outputs": [
        {
          "output_type": "stream",
          "name": "stdout",
          "text": [
            "The total reward in this episode is: 10000\n"
          ]
        },
        {
          "output_type": "display_data",
          "data": {
            "text/plain": [
              "<Figure size 640x480 with 1 Axes>"
            ],
            "image/png": "[encoded data removed]"
          },
          "metadata": {}
        }
      ]
    },
    {
      "cell_type": "code",
      "source": [],
      "metadata": {
        "id": "1k1snVscBt9t"
      },
      "execution_count": null,
      "outputs": []
    }
  ],
  "metadata": {
    "colab": {
      "provenance": []
    },
    "kernelspec": {
      "display_name": "Python 3",
      "name": "python3"
    },
    "language_info": {
      "name": "python"
    }
  },
  "nbformat": 4,
  "nbformat_minor": 0
}